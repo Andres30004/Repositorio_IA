{
  "cells": [
    {
      "cell_type": "markdown",
      "metadata": {
        "id": "abptm2kY1RW1"
      },
      "source": [
        "## $${Autoencoder}$$"
      ]
    },
    {
      "cell_type": "code",
      "execution_count": 1,
      "metadata": {
        "id": "c-tvQwY7QBbi"
      },
      "outputs": [],
      "source": [
        "import numpy as np\n",
        "import matplotlib.pyplot as plt\n",
        "import random\n",
        "import cv2"
      ]
    },
    {
      "cell_type": "code",
      "execution_count": null,
      "metadata": {},
      "outputs": [],
      "source": []
    },
    {
      "cell_type": "code",
      "execution_count": 2,
      "metadata": {
        "id": "gBeQWrsTpg8r"
      },
      "outputs": [],
      "source": [
        "# Funciones\n",
        "def sigmoid(x):\n",
        "    return 1 / (1 + np.exp(-x))\n",
        "\n",
        "def sigmoid_derivative(x):\n",
        "    return x * (1 - x)"
      ]
    },
    {
      "cell_type": "code",
      "execution_count": 3,
      "metadata": {
        "id": "swLCY1JlrkAt"
      },
      "outputs": [],
      "source": [
        "# Parámetros\n",
        "x = np.array([[3, 127, 211],\n",
        "              [5, 200, 255],\n",
        "              [29, 8, 10]])\n",
        "\n",
        "x_normalize = x / 255"
      ]
    },
    {
      "cell_type": "code",
      "execution_count": 4,
      "metadata": {
        "id": "FF_94RbvsFdF"
      },
      "outputs": [],
      "source": [
        "# Parámetros de la red\n",
        "bias = 2 * np.random.random((1, 1)) - 1\n",
        "input_a = x.shape[1]  # 3 neuronas de entrada (por las 3 características del arreglo) devolvera el tamaño de las 3 columnas\n",
        "hidden = 2  # 2 neuronas en la capa oculta\n",
        "output = input_a # Debe ser igual al número de neuronas de entrada en un autoencoder\n",
        "learning_rate = 0.95\n",
        "alpha = 0.65  # momentum\n",
        "epochs = 40000\n",
        "w_old = 0\n",
        "b_old = 0"
      ]
    },
    {
      "cell_type": "code",
      "execution_count": 5,
      "metadata": {
        "id": "3fs-kv3-sJA9"
      },
      "outputs": [],
      "source": [
        "# Inicializar los pesos y bias con valores pequeños aleatorios\n",
        "np.random.seed(42)  # Fijamos la semilla para reproducibilidad\n",
        "\n",
        "# Inicialización de pesos y bias\n",
        "weights_e = np.random.randn(input_a, hidden)\n",
        "bias_hidden_e = np.random.randn(hidden)\n",
        "\n",
        "weights_h = np.random.randn(hidden, hidden)\n",
        "bias_hidden_h = np.random.randn(hidden)\n",
        "\n",
        "weights_d = np.random.randn(hidden, output)\n",
        "bias_output = np.random.randn(output)\n",
        "\n",
        "# Inicialización de variables para momentum\n",
        "v_weights_e = np.zeros_like(weights_e)\n",
        "v_bias_hidden_e = np.zeros_like(bias_hidden_e)\n",
        "\n",
        "v_weights_h = np.zeros_like(weights_h)\n",
        "v_bias_hidden_h = np.zeros_like(bias_hidden_h)\n",
        "\n",
        "v_weights_d = np.zeros_like(weights_d)\n",
        "v_bias_output = np.zeros_like(bias_output)"
      ]
    },
    {
      "cell_type": "code",
      "execution_count": 6,
      "metadata": {
        "id": "_FhQ8qQQRl-9"
      },
      "outputs": [],
      "source": [
        "# Listas para guardar errores\n",
        "errors_Au_momentum = []\n",
        "\n",
        "# Entrenamiento con Backpropagation y momentum\n",
        "for epoch in range(epochs):\n",
        "    # Forward pass - Encoder\n",
        "    z_e = np.dot(x_normalize, weights_e) + bias_hidden_e\n",
        "    yo_e = sigmoid(z_e)\n",
        "\n",
        "    # Forward pass - Hidden\n",
        "    z_h = np.dot(yo_e, weights_h) + bias_hidden_h\n",
        "    yo_h = sigmoid(z_h)\n",
        "\n",
        "    # Forward pass - Decoder\n",
        "    z_d = np.dot(yo_h, weights_d) + bias_output\n",
        "    yo_d = sigmoid(z_d)\n",
        "\n",
        "    # Calculo del error\n",
        "    error_Au = x_normalize - yo_d\n",
        "    mse_Au = np.mean(error_Au**2)\n",
        "    errors_Au_momentum.append(mse_Au)\n",
        "\n",
        "    # Backpropagation - Decoder\n",
        "    d_output = error_Au * sigmoid_derivative(yo_d)\n",
        "    d_weights_d = np.dot(yo_h.T, d_output)\n",
        "    db_output = np.sum(d_output, axis=0, keepdims=True)\n",
        "\n",
        "    # Backpropagation - Hidden\n",
        "    d_hidden = np.dot(d_output, weights_d.T) * sigmoid_derivative(yo_h)\n",
        "    d_weights_h = np.dot(yo_e.T, d_hidden)\n",
        "    db_hidden = np.sum(d_hidden, axis=0, keepdims=True)\n",
        "\n",
        "    # Backpropagation - Encoder\n",
        "    d_encoder = np.dot(d_hidden, weights_h.T) * sigmoid_derivative(yo_e)\n",
        "    d_weights_e = np.dot(x_normalize.T, d_encoder)\n",
        "    db_encoder = np.sum(d_encoder, axis=0, keepdims=True)\n",
        "\n",
        "    # Actualización de pesos y sesgos con momentum\n",
        "    v_weights_d = alpha * (v_weights_d - w_old) + learning_rate * d_weights_d\n",
        "    v_bias_output = alpha * v_bias_output + learning_rate * db_output.ravel()\n",
        "    v_weights_e = alpha * (v_weights_e - w_old) + learning_rate * d_weights_e\n",
        "    v_bias_hidden_e = alpha * v_bias_hidden_e + learning_rate * db_encoder.ravel()\n",
        "    v_weights_h = alpha * (v_weights_h - w_old) + learning_rate * d_weights_h\n",
        "    v_bias_hidden_h = alpha * v_bias_hidden_h + learning_rate * db_hidden.ravel()\n",
        "\n",
        "    # Actualización de los pesos y sesgos\n",
        "    weights_e += v_weights_e\n",
        "    bias_hidden_e += v_bias_hidden_e\n",
        "\n",
        "    weights_h += v_weights_h\n",
        "    bias_hidden_h += v_bias_hidden_h\n",
        "\n",
        "    weights_d += v_weights_d\n",
        "    bias_output += v_bias_output\n",
        "\n",
        "    #print(weights_d, weights_e)"
      ]
    },
    {
      "cell_type": "code",
      "execution_count": 7,
      "metadata": {
        "colab": {
          "base_uri": "https://localhost:8080/"
        },
        "id": "RofgODPqg72E",
        "outputId": "335c9807-e5e3-4a83-b6ab-de7d47d915ed"
      },
      "outputs": [
        {
          "name": "stdout",
          "output_type": "stream",
          "text": [
            "[[0.78782699 0.26465464]\n",
            " [0.23196136 0.02017366]\n",
            " [0.98929001 0.94493578]]\n"
          ]
        }
      ],
      "source": [
        "print(yo_h)"
      ]
    },
    {
      "cell_type": "code",
      "execution_count": 8,
      "metadata": {
        "colab": {
          "base_uri": "https://localhost:8080/"
        },
        "id": "npLEOvwa5q-b",
        "outputId": "50ac0510-dd8b-440e-eb15-98e3c8422bfd"
      },
      "outputs": [
        {
          "name": "stdout",
          "output_type": "stream",
          "text": [
            "[[  3. 127. 211.]\n",
            " [  5. 200. 254.]\n",
            " [ 29.   8.  10.]]\n"
          ]
        }
      ],
      "source": [
        "# Reconstrucción después del entrenamiento\n",
        "z_e2 = np.dot(x_normalize, weights_e) + bias_hidden_e\n",
        "a_e2 = sigmoid(z_e2)\n",
        "\n",
        "z_h2 = np.dot(a_e2, weights_h) + bias_hidden_h\n",
        "a_h2 = sigmoid(z_h2)\n",
        "\n",
        "z_d2 = np.dot(a_h2, weights_d) + bias_output\n",
        "a_d2 = sigmoid(z_d2)\n",
        "\n",
        "reconstructed_backprop = sigmoid(z_d2)\n",
        "rounded_reconstructed = np.round(reconstructed_backprop * 255)\n",
        "print(rounded_reconstructed)"
      ]
    },
    {
      "cell_type": "markdown",
      "metadata": {
        "id": "8x_aYvHv7EC4"
      },
      "source": [
        "[[3, 127, 211]\n",
        "\n",
        "[5, 200, 255]\n",
        "\n",
        "[29, 8, 10]"
      ]
    }
  ],
  "metadata": {
    "colab": {
      "provenance": []
    },
    "kernelspec": {
      "display_name": "Python 3",
      "name": "python3"
    },
    "language_info": {
      "codemirror_mode": {
        "name": "ipython",
        "version": 3
      },
      "file_extension": ".py",
      "mimetype": "text/x-python",
      "name": "python",
      "nbconvert_exporter": "python",
      "pygments_lexer": "ipython3",
      "version": "3.12.1"
    }
  },
  "nbformat": 4,
  "nbformat_minor": 0
}

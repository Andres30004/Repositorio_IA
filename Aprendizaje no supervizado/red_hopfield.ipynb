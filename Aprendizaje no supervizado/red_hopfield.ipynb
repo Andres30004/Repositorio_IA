{
 "cells": [
  {
   "cell_type": "code",
   "execution_count": 1,
   "metadata": {},
   "outputs": [],
   "source": [
    "import numpy as np\n",
    "import matplotlib.pyplot as plt"
   ]
  },
  {
   "cell_type": "code",
   "execution_count": 2,
   "metadata": {},
   "outputs": [],
   "source": [
    "patron_1 = np.array([[-1,-1,-1,-1,-1,-1,-1,-1,-1],\n",
    "               [-1,1,1,1,1,1,1,1,-1],\n",
    "               [-1,1,-1,-1,-1,-1,-1,-1,-1],\n",
    "               [-1,1,1,1,1,1,1,1,-1],\n",
    "               [-1,1,-1,-1,-1,-1,-1,1,-1],\n",
    "               [-1,1,-1,-1,-1,-1,-1,1,-1],\n",
    "               [-1,1,-1,-1,-1,-1,-1,1,-1],\n",
    "               [-1,1,1,1,1,1,1,1,-1],\n",
    "               [-1,-1,-1,-1,-1,-1,-1,-1,-1]])\n",
    "\n",
    "patron_2 = np.array([[1,1,1,1,1,1,1,1,1],\n",
    "                     [1,1,-1,-1,-1,-1,-1,1,1],\n",
    "                     [1,-1,1,1,1,1,1,-1,1],\n",
    "                     [1,-1,1,1,1,1,1,-1,1],\n",
    "                     [1,1,-1,-1,-1,-1,-1,1,1],\n",
    "                     [1,-1,1,1,1,1,1,-1,1],\n",
    "                     [1,-1,1,1,1,1,1,-1,1],\n",
    "                     [1,-1,1,1,1,1,1,-1,1],\n",
    "                     [1,1,-1,-1,-1,-1,-1,1,1]])\n",
    "\n",
    "patron_3 = np.array([[1,1,-1,-1,-1,-1,-1,1,1],\n",
    "                    [1,1,1,-1,-1,-1,1,1,1],\n",
    "                    [1,1,-1,-1,-1,-1,-1,1,1],\n",
    "                    [1,1,1,-1,-1,-1,1,1,1],\n",
    "                    [1,1,1,-1,1,-1,1,1,1],\n",
    "                    [1,1,1,-1,1,-1,1,1,1],\n",
    "                    [1,1,1,-1,-1,-1,1,1,1],\n",
    "                    [1,1,1,-1,-1,-1,1,1,1],\n",
    "                    [1,1,-1,-1,-1,-1,-1,1,1]])\n",
    "\n",
    "patron_1_ruido = np.array([[-1,-1,-1,-1,-1,-1,-1,-1,-1],\n",
    "                    [-1,1,1,1,1,1,1,1,-1],\n",
    "                    [-1,1,-1,-1,-1,-1,-1,-1,-1],\n",
    "                    [-1,-1,-1,1,1,1,-1,1,-1],\n",
    "                    [-1,1,-1,-1,-1,-1,-1,1,-1],\n",
    "                    [-1,1,-1,-1,-1,-1,-1,1,-1],\n",
    "                    [-1,1,-1,-1,-1,-1,-1,1,-1],\n",
    "                    [-1,1,1,1,-1,-1,1,1,-1],\n",
    "                    [-1,-1,-1,-1,-1,-1,-1,-1,-1]])\n",
    "\n",
    "patron_2_ruido = np.array([[1,1,1,1,1,1,1,1,1],\n",
    "                     [1,1,-1,-1,-1,-1,-1,1,1],\n",
    "                     [1,-1,1,-1,1,1,1,-1,1],\n",
    "                     [1,-1,1,1,1,1,1,-1,1],\n",
    "                     [1,1,-1,-1,-1,-1,-1,1,1],\n",
    "                     [1,-1,-1,1,1,-1,1,-1,1],\n",
    "                     [1,-1,1,1,1,-1,1,-1,1],\n",
    "                     [1,-1,1,-1,1,1,1,-1,1],\n",
    "                     [1,1,-1,-1,-1,-1,-1,1,1]])\n",
    "\n",
    "patron_3_ruido = np.array([[1,1,-1,-1,-1,-1,-1,1,1],\n",
    "                    [-1,1,1,-1,-1,-1,1,1,1],\n",
    "                    [1,1,-1,-1,-1,-1,-1,1,1],\n",
    "                    [-1,1,1,-1,-1,-1,1,1,1],\n",
    "                    [1,1,1,-1,1,-1,1,1,1],\n",
    "                    [1,1,1,-1,1,-1,1,1,1],\n",
    "                    [1,-1,-1,-1,-1,-1,1,1,1],\n",
    "                    [1,1,1,-1,-1,-1,1,1,-1],\n",
    "                    [1,1,-1,-1,-1,-1,-1,-1,1]])"
   ]
  },
  {
   "cell_type": "code",
   "execution_count": 3,
   "metadata": {},
   "outputs": [],
   "source": [
    "patrones = np.array([patron_1.flatten(), patron_2.flatten(),patron_3.flatten()])"
   ]
  },
  {
   "cell_type": "code",
   "execution_count": 4,
   "metadata": {},
   "outputs": [
    {
     "data": {
      "text/plain": [
       "<matplotlib.image.AxesImage at 0x2336b4d8f50>"
      ]
     },
     "execution_count": 4,
     "metadata": {},
     "output_type": "execute_result"
    },
    {
     "data": {
      "image/png": "[encoded data removed]",
      "text/plain": [
       "<Figure size 640x480 with 1 Axes>"
      ]
     },
     "metadata": {},
     "output_type": "display_data"
    },
    {
     "data": {
      "image/png": "[encoded data removed]",
      "text/plain": [
       "<Figure size 640x480 with 1 Axes>"
      ]
     },
     "metadata": {},
     "output_type": "display_data"
    }
   ],
   "source": [
    "def matriz_pesos(patrones):\n",
    "  p,n = patrones.shape\n",
    "  w = np.zeros((n,n))\n",
    "\n",
    "  for i in patrones: \n",
    "    i = i.reshape(-1,1)\n",
    "    w = w + np.dot(i, i.T)\n",
    "  \n",
    "  np.fill_diagonal(w,0) \n",
    "  w = w/n\n",
    "  return w\n",
    "\n",
    "def neurona(w, caracteristicas, epocas):\n",
    "  for i in range(epocas):\n",
    "    caracteristicas = np.sign(np.dot(w,caracteristicas))\n",
    "  return caracteristicas\n",
    "\n",
    "w = matriz_pesos(patrones)\n",
    "\n",
    "\n",
    "\n",
    "patron_recuperado = neurona(w,patron_3_ruido.flatten(),2)\n",
    "\n",
    "plt.figure()\n",
    "plt.imshow(patron_3_ruido)\n",
    "\n",
    "plt.figure()\n",
    "plt.imshow(patron_recuperado.reshape(9,9))"
   ]
  }
 ],
 "metadata": {
  "kernelspec": {
   "display_name": "Python 3",
   "language": "python",
   "name": "python3"
  },
  "language_info": {
   "codemirror_mode": {
    "name": "ipython",
    "version": 3
   },
   "file_extension": ".py",
   "mimetype": "text/x-python",
   "name": "python",
   "nbconvert_exporter": "python",
   "pygments_lexer": "ipython3",
   "version": "3.12.1"
  }
 },
 "nbformat": 4,
 "nbformat_minor": 2
}
